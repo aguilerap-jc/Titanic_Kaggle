{
 "cells": [
  {
   "cell_type": "code",
   "execution_count": 14,
   "metadata": {},
   "outputs": [],
   "source": [
    "import os\n",
    "import pandas as pd\n",
    "from sklearn.tree import DecisionTreeClassifier"
   ]
  },
  {
   "cell_type": "code",
   "execution_count": 15,
   "metadata": {},
   "outputs": [],
   "source": [
    "class Dataset:\n",
    "    def __init__(self):\n",
    "        self.dataset_folder = \"../Dataset\"\n",
    "        self.src_folder = \"../src\"\n",
    "        self.train = self.dataset_folder+\"/train.csv\"\n",
    "        self.test = self.dataset_folder+\"/test.csv\"\n",
    "    \n",
    "    def get_train_df(self):\n",
    "        return pd.read_csv(self.train)    \n",
    "\n",
    "    def get_test_df(self):\n",
    "        return pd.read_csv(self.test)   "
   ]
  },
  {
   "cell_type": "code",
   "execution_count": 16,
   "metadata": {},
   "outputs": [],
   "source": [
    "ds = Dataset()"
   ]
  },
  {
   "cell_type": "code",
   "execution_count": 17,
   "metadata": {},
   "outputs": [
    {
     "data": {
      "text/plain": [
       "Index(['PassengerId', 'Pclass', 'Name', 'Sex', 'Age', 'SibSp', 'Parch',\n",
       "       'Ticket', 'Fare', 'Cabin', 'Embarked'],\n",
       "      dtype='object')"
      ]
     },
     "execution_count": 17,
     "metadata": {},
     "output_type": "execute_result"
    }
   ],
   "source": [
    "df = ds.get_test_df()\n",
    "df.columns"
   ]
  },
  {
   "cell_type": "code",
   "execution_count": 71,
   "metadata": {},
   "outputs": [],
   "source": [
    "\"\"\" Feature information \n",
    "survival\tSurvival\t0 = No, 1 = Yes\n",
    "pclass\tTicket class\t1 = 1st, 2 = 2nd, 3 = 3rd\n",
    "sex\tSex\t\n",
    "Age\tAge in years\t\n",
    "sibsp\t# of siblings / spouses aboard the Titanic\t\n",
    "parch\t# of parents / children aboard the Titanic\t\n",
    "ticket\tTicket number\t\n",
    "fare\tPassenger fare\t\n",
    "cabin\tCabin number\t\n",
    "embarked\tPort of Embarkation\tC = Cherbourg, Q = Queenstown, S = Southampton\n",
    "\"\"\"\n",
    "class TitanicSurvivalPredictor:\n",
    "    def __init__(self):\n",
    "        self.ds = Dataset()\n",
    "        self.tree = DecisionTreeClassifier()\n",
    "        self.train = self.ds.get_train_df()\n",
    "        self.test = self.ds.get_test_df()\n",
    "        self.features = ['Pclass', 'Sex_num', 'Age', 'SibSp', 'Parch', 'Fare', 'Embarked_num']\n",
    "    \n",
    "    def gender_to_numeric(self, x):\n",
    "        if x=='female': return 2\n",
    "        if x=='male':   return 1\n",
    "    \n",
    "    def embarked_to_numeric(self, x):\n",
    "        if x=='C': return 1\n",
    "        if x=='Q': return 2\n",
    "        if x=='S': return 3\n",
    "    \n",
    "    def preprocess(self):\n",
    "        self.train['Sex_num'] = self.train['Sex'].apply(self.gender_to_numeric)\n",
    "        self.train['Embarked_num'] = self.train['Embarked'].apply(self.embarked_to_numeric)\n",
    "        self.test['Sex_num'] = self.test['Sex'].apply(self.gender_to_numeric)\n",
    "        self.test['Embarked_num'] = self.test['Embarked'].apply(self.embarked_to_numeric)\n",
    "        #self.train = self.train.reindex(columns=self.train.columns)\n",
    "    \n",
    "    def fit(self):\n",
    "        #self.df = pd.read_csv(train_path)\n",
    "        # Preprocessing steps to handle missing data, categorical variables, etc.\n",
    "        self.preprocess()\n",
    "        # Here we will assume that we have already preprocessed the data and\n",
    "        # created the necessary features for our decision tree\n",
    "        train = self.train.dropna()\n",
    "        X = train[self.features]\n",
    "        y = train['Survived']\n",
    "        self.tree.fit(X, y)\n",
    "    \n",
    "    def predict(self, passenger_id):\n",
    "        test_df = self.test\n",
    "        test_row = test_df[test_df['PassengerId'] == passenger_id]\n",
    "        X_test = test_row[self.features]\n",
    "        return self.tree.predict(X_test)[0]\n"
   ]
  },
  {
   "cell_type": "code",
   "execution_count": 73,
   "metadata": {},
   "outputs": [
    {
     "name": "stdout",
     "output_type": "stream",
     "text": [
      "0\n"
     ]
    }
   ],
   "source": [
    "ts = TitanicSurvivalPredictor()\n",
    "\"\"\"\n",
    "cls = ts.train.columns.to_list() \n",
    "cls.append([\"A\"])\n",
    "cls.append([\"B\"])\n",
    "cls\n",
    "\"\"\"\n",
    "ts.fit()\n",
    "print( ts.predict(894) ) \n",
    "#ts.preprocess()\n",
    "#ts.train.dropna(subset=[\"Age\"], inplace=True)\n",
    "#ts.train"
   ]
  },
  {
   "cell_type": "code",
   "execution_count": 45,
   "metadata": {},
   "outputs": [
    {
     "data": {
      "text/plain": [
       "<__main__.TitanicSurvivalPredictor at 0x7fd55ae655d0>"
      ]
     },
     "execution_count": 45,
     "metadata": {},
     "output_type": "execute_result"
    }
   ],
   "source": [
    "ts"
   ]
  },
  {
   "cell_type": "code",
   "execution_count": null,
   "metadata": {},
   "outputs": [],
   "source": []
  }
 ],
 "metadata": {
  "kernelspec": {
   "display_name": "py37",
   "language": "python",
   "name": "python3"
  },
  "language_info": {
   "codemirror_mode": {
    "name": "ipython",
    "version": 3
   },
   "file_extension": ".py",
   "mimetype": "text/x-python",
   "name": "python",
   "nbconvert_exporter": "python",
   "pygments_lexer": "ipython3",
   "version": "3.7.11"
  },
  "orig_nbformat": 4
 },
 "nbformat": 4,
 "nbformat_minor": 2
}
